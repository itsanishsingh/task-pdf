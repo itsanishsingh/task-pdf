{
 "cells": [
  {
   "cell_type": "code",
   "execution_count": null,
   "metadata": {},
   "outputs": [],
   "source": [
    "import pandas as pd\n",
    "from pypdf import PdfReader\n",
    "import pymupdf\n",
    "import io\n",
    "from PIL import Image\n",
    "from pathlib import Path\n",
    "\n",
    "from sqlalchemy import create_engine"
   ]
  },
  {
   "cell_type": "code",
   "execution_count": 3,
   "metadata": {},
   "outputs": [
    {
     "name": "stdout",
     "output_type": "stream",
     "text": [
      "1\n"
     ]
    }
   ],
   "source": [
    "reader = PdfReader(\"data/ANISHKUMAR_BT21CS009_1733817042262.pdf\")\n",
    "print(len(reader.pages))"
   ]
  },
  {
   "cell_type": "code",
   "execution_count": 6,
   "metadata": {},
   "outputs": [
    {
     "name": "stdout",
     "output_type": "stream",
     "text": [
      "Registration ID BT21CS009\n",
      "Name ANISH KUMAR SINGH\n",
      "Programme Name Bachelor of Technology (Computer Science and Engineering)\n",
      "Batch Year 2021\n",
      "Status REGULAR\n",
      "Semester Eighth\n",
      "Registered Courses\n",
      "Course Name Course Code Credit Date And Time\n",
      "Major Project SOE-B-CSE-21-F02 10.0 10-12-2024 01:19 PM\n",
      "Distributed SystemSOE-B-CSE-21-\n",
      "F03(2)3.0 10-12-2024 01:19 PM\n",
      "Soft Computing-2SOE-B-CSE-21-\n",
      "F04(1)3.0 10-12-2024 01:19 PM\n",
      "Natural Language ProcessingSOE-B-CSE-21-\n",
      "F05(3)3.0 10-12-2024 01:19 PM\n",
      "Soft Computing-2 LabSOE-B-CSE-21-\n",
      "F06(1)1.0 10-12-2024 01:19 PM\n",
      "Natural Language Processing LabSOE-B-CSE-21-\n",
      "F07(3)1.0 10-12-2024 01:19 PM\n",
      "(Min: 1.0 Max: 26.0) Total 21.0\n",
      "Generated on 10-12-2024 01:20 PM\n"
     ]
    }
   ],
   "source": [
    "page = reader.pages[0]\n",
    "text = page.extract_text()\n",
    "print(text)"
   ]
  },
  {
   "cell_type": "code",
   "execution_count": 7,
   "metadata": {},
   "outputs": [],
   "source": [
    "with open(\"output.txt\", \"w\") as f:\n",
    "    for word in text:\n",
    "        f.write(word)"
   ]
  },
  {
   "cell_type": "code",
   "execution_count": 11,
   "metadata": {},
   "outputs": [],
   "source": [
    "for count, image_file_object in enumerate(page.images):\n",
    "    with open(str(count) + image_file_object.name, \"wb\") as fp:\n",
    "        fp.write(image_file_object.data)"
   ]
  },
  {
   "cell_type": "code",
   "execution_count": 36,
   "metadata": {},
   "outputs": [],
   "source": [
    "def extract_text_image(pdf):\n",
    "    page_no = 1\n",
    "    for page in pdf.pages:\n",
    "        text = page.extract_text()\n",
    "        with open(f\"extracted_text/result_page_{page_no}.txt\", \"w\") as f:\n",
    "            for word in text:\n",
    "                f.write(word)\n",
    "        page_no += 1\n",
    "        \n",
    "        try:\n",
    "            for count, image_file_object in enumerate(page.images):\n",
    "                with open(f\"extracted_images/{str(count) + image_file_object.name}\", \"wb\") as fp:\n",
    "                    fp.write(image_file_object.data)\n",
    "        except Exception:\n",
    "            continue"
   ]
  },
  {
   "cell_type": "code",
   "execution_count": 37,
   "metadata": {},
   "outputs": [],
   "source": [
    "reader = PdfReader(\"data/xii_ch_1.pdf\")\n",
    "extract_text_image(reader)"
   ]
  },
  {
   "cell_type": "code",
   "execution_count": 40,
   "metadata": {},
   "outputs": [],
   "source": [
    "doc = pymupdf.open(\"data/xii_ch_1.pdf\")"
   ]
  },
  {
   "cell_type": "code",
   "execution_count": null,
   "metadata": {},
   "outputs": [],
   "source": [
    "df = pd.DataFrame({\"image\": [], \"string\": []})\n",
    "for page in doc:\n",
    "    text = page.get_text()\n",
    "    with open(f\"extracted_text_pymupdf/result_page_{page.number}.txt\", \"w\") as f:\n",
    "            f.write(text)\n",
    "\n",
    "    for image_index, img in enumerate(page.get_images(), start=1):\n",
    "        xref = img[0]\n",
    "        base_image = doc.extract_image(xref)\n",
    "        image_bytes = base_image[\"image\"]\n",
    "        image_ext = base_image[\"ext\"]\n",
    "        with open(f\"extracted_images_pymupdf/image{page.number+1}_{image_index}.{image_ext}\", \"wb\") as image:\n",
    "            image.write(image_bytes)"
   ]
  },
  {
   "cell_type": "code",
   "execution_count": 75,
   "metadata": {},
   "outputs": [],
   "source": [
    "def upload(df, table):\n",
    "    engine = create_engine(postgres_url)\n",
    "    df.to_sql(table, engine, if_exists=\"replace\", index=False)"
   ]
  },
  {
   "cell_type": "code",
   "execution_count": 83,
   "metadata": {},
   "outputs": [],
   "source": [
    "df = pd.DataFrame({\"page_no\": [], \"image\": [], \"string\": []})\n",
    "for page in doc:\n",
    "    page_no = page.number+1\n",
    "    has_img = len(page.get_images())\n",
    "    if has_img > 2:\n",
    "        has_img = \"True\"\n",
    "    else:\n",
    "        has_img = \"False\"\n",
    "    text = page.get_text()\n",
    "    df = pd.concat([df, pd.DataFrame({\"page_no\": [page_no], \"image\": [has_img], \"string\": [text]})], ignore_index=True)\n",
    "\n",
    "df.to_csv(\"xii_ch1.csv\", index=False)"
   ]
  },
  {
   "cell_type": "code",
   "execution_count": 84,
   "metadata": {},
   "outputs": [],
   "source": [
    "upload(df, \"xii_ch1\")"
   ]
  },
  {
   "cell_type": "code",
   "execution_count": null,
   "metadata": {},
   "outputs": [],
   "source": []
  }
 ],
 "metadata": {
  "kernelspec": {
   "display_name": "base",
   "language": "python",
   "name": "python3"
  },
  "language_info": {
   "codemirror_mode": {
    "name": "ipython",
    "version": 3
   },
   "file_extension": ".py",
   "mimetype": "text/x-python",
   "name": "python",
   "nbconvert_exporter": "python",
   "pygments_lexer": "ipython3",
   "version": "3.12.7"
  }
 },
 "nbformat": 4,
 "nbformat_minor": 2
}
